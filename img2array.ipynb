{
 "cells": [
  {
   "cell_type": "code",
   "execution_count": 33,
   "metadata": {},
   "outputs": [],
   "source": [
    "from PIL import Image\n",
    "import os, glob\n",
    "import numpy as np\n",
    "from sklearn import model_selection\n",
    "\n",
    "classes = [\"monkey\", \"boar\", \"crow\"]\n",
    "num_classes = len(classes)\n",
    "image_size = 50\n",
    "\n",
    "# 画像の読み込み\n",
    "\n",
    "X = []\n",
    "Y = []\n",
    "for index, classlabel in enumerate(classes):\n",
    "    photos_dir = \"./\" + classlabel\n",
    "    files = glob.glob(photos_dir + \"/*.jpg\")\n",
    "    for i, file in enumerate(files):\n",
    "        if i >= 122: break\n",
    "        # 最小の数に揃えている\n",
    "        image = Image.open(file)\n",
    "        #  print(image.format, image.size, image.mode)\n",
    "        image = image.convert(\"RGB\")\n",
    "        image = image.resize((image_size, image_size)) # 縦横同じサイズに変更    \n",
    "        data = np.asarray(image) # Numpy配列に変換\n",
    "\n",
    "        X.append(data)\n",
    "        Y.append(index)\n",
    "        \n",
    "X = np.array(X)\n",
    "Y = np.array(Y)"
   ]
  },
  {
   "cell_type": "code",
   "execution_count": 37,
   "metadata": {},
   "outputs": [
    {
     "data": {
      "text/plain": [
       "array([[[ 71,  71,  71],\n",
       "        [ 75,  75,  75],\n",
       "        [ 77,  77,  77],\n",
       "        ...,\n",
       "        [104, 104, 104],\n",
       "        [100, 100, 100],\n",
       "        [ 96,  96,  96]],\n",
       "\n",
       "       [[ 88,  88,  88],\n",
       "        [ 85,  85,  85],\n",
       "        [ 76,  76,  76],\n",
       "        ...,\n",
       "        [ 95,  95,  95],\n",
       "        [ 96,  96,  96],\n",
       "        [ 90,  90,  90]],\n",
       "\n",
       "       [[109, 109, 109],\n",
       "        [111, 111, 111],\n",
       "        [106, 106, 106],\n",
       "        ...,\n",
       "        [ 96,  96,  96],\n",
       "        [ 95,  95,  95],\n",
       "        [ 88,  88,  88]],\n",
       "\n",
       "       ...,\n",
       "\n",
       "       [[ 57,  57,  57],\n",
       "        [ 90,  90,  90],\n",
       "        [ 96,  96,  96],\n",
       "        ...,\n",
       "        [ 58,  58,  58],\n",
       "        [ 63,  63,  63],\n",
       "        [ 80,  80,  80]],\n",
       "\n",
       "       [[ 80,  80,  80],\n",
       "        [ 78,  78,  78],\n",
       "        [ 45,  45,  45],\n",
       "        ...,\n",
       "        [ 70,  70,  70],\n",
       "        [ 85,  85,  85],\n",
       "        [ 98,  98,  98]],\n",
       "\n",
       "       [[ 40,  40,  40],\n",
       "        [ 57,  57,  57],\n",
       "        [ 46,  46,  46],\n",
       "        ...,\n",
       "        [ 38,  38,  38],\n",
       "        [ 79,  79,  79],\n",
       "        [ 45,  45,  45]]], dtype=uint8)"
      ]
     },
     "execution_count": 37,
     "metadata": {},
     "output_type": "execute_result"
    }
   ],
   "source": [
    "X[0] # monkey の画像ファイルが格納"
   ]
  },
  {
   "cell_type": "code",
   "execution_count": 39,
   "metadata": {},
   "outputs": [
    {
     "data": {
      "text/plain": [
       "366"
      ]
     },
     "execution_count": 39,
     "metadata": {},
     "output_type": "execute_result"
    }
   ],
   "source": [
    "len(X) # リストに格納されているファイルの総数"
   ]
  },
  {
   "cell_type": "code",
   "execution_count": 42,
   "metadata": {},
   "outputs": [
    {
     "data": {
      "text/plain": [
       "0"
      ]
     },
     "execution_count": 42,
     "metadata": {},
     "output_type": "execute_result"
    }
   ],
   "source": [
    "Y[100] # index = 100 のラベル (0 = monkey, 1 = boar, 2 = crow)"
   ]
  },
  {
   "cell_type": "code",
   "execution_count": null,
   "metadata": {},
   "outputs": [],
   "source": []
  }
 ],
 "metadata": {
  "kernelspec": {
   "display_name": "Python 3",
   "language": "python",
   "name": "python3"
  },
  "language_info": {
   "codemirror_mode": {
    "name": "ipython",
    "version": 3
   },
   "file_extension": ".py",
   "mimetype": "text/x-python",
   "name": "python",
   "nbconvert_exporter": "python",
   "pygments_lexer": "ipython3",
   "version": "3.6.7"
  }
 },
 "nbformat": 4,
 "nbformat_minor": 2
}
